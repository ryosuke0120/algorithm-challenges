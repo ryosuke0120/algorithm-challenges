{
 "cells": [
  {
   "cell_type": "markdown",
   "metadata": {},
   "source": [
    "# 問題\n",
    "\n",
    "あるMxNのマス目があります。各マスには0か1が書かれています。\n",
    "\n",
    "上下左右で隣接するとき、1になっているマスは同じグループに属します。\n",
    "\n",
    "このとき、グループの数を求めてください。\n",
    "\n",
    "## 制約\n",
    "\n",
    "- 1 <= M, N <= 1000\n"
   ]
  },
  {
   "cell_type": "markdown",
   "metadata": {},
   "source": [
    "# 解答\n",
    "\n",
    "DFS（深さ優先探索）またはBFS（幅優先探索）で解くことができます。\n",
    "\n",
    "ここではDFSで解いています。"
   ]
  },
  {
   "cell_type": "code",
   "execution_count": 6,
   "metadata": {},
   "outputs": [
    {
     "name": "stdout",
     "output_type": "stream",
     "text": [
      "グループ数 4\n"
     ]
    }
   ],
   "source": [
    "# 方針\n",
    "# 左上から順に探索し、1が見つかったらその1が連なっている部分を0に変更し、カウントを+1する。\n",
    "# 0の場合は何もしないため、1が連なっている部分の数をカウントすることができる。\n",
    "\n",
    "INPUT = [\n",
    "    [1, 1, 0, 0, 0],\n",
    "    [1, 0, 0, 1, 1],\n",
    "    [0, 0, 1, 1, 0],\n",
    "    [0, 0, 0, 0, 0],\n",
    "    [1, 1, 0, 0, 1]\n",
    "]\n",
    "\n",
    "def get_island_count(grid):\n",
    "    \"\"\"2次元配列において、1が連なっている部分の数を返す\"\"\"\n",
    "    \n",
    "    # 配列のコピーを作成\n",
    "    input = [row[:] for row in grid]\n",
    "    \n",
    "    def dfs(i, j):\n",
    "        \"\"\"深さ優先探索\"\"\"\n",
    "        \n",
    "        # 範囲外または0の場合は何もしない\n",
    "        if i < 0 or i >= len(input) or j < 0 or j >= len(input[0]) or input[i][j] == 0:\n",
    "            return\n",
    "        \n",
    "        # 1の場合は0にして、上下左右を再帰的に探索\n",
    "        input[i][j] = 0\n",
    "        \n",
    "        # 上下左右を探索\n",
    "        dfs(i + 1, j)\n",
    "        dfs(i - 1, j)\n",
    "        dfs(i, j + 1)\n",
    "        dfs(i, j - 1)\n",
    "\n",
    "    # 1が連なっている部分の数をカウント\n",
    "    count = 0\n",
    "    for i in range(len(input)):\n",
    "        for j in range(len(input[0])):\n",
    "            # 1の場合はdfsを実行\n",
    "            if input[i][j] == 1:\n",
    "                count += 1\n",
    "                dfs(i, j)\n",
    "    return count\n",
    "\n",
    "print(\"グループ数\", get_island_count(INPUT))"
   ]
  }
 ],
 "metadata": {
  "kernelspec": {
   "display_name": "Python 3",
   "language": "python",
   "name": "python3"
  },
  "language_info": {
   "codemirror_mode": {
    "name": "ipython",
    "version": 3
   },
   "file_extension": ".py",
   "mimetype": "text/x-python",
   "name": "python",
   "nbconvert_exporter": "python",
   "pygments_lexer": "ipython3",
   "version": "3.9.1"
  }
 },
 "nbformat": 4,
 "nbformat_minor": 2
}

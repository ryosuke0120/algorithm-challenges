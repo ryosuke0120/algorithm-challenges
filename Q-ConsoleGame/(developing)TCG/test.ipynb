{
 "cells": [
  {
   "cell_type": "code",
   "execution_count": 1,
   "metadata": {},
   "outputs": [
    {
     "name": "stdout",
     "output_type": "stream",
     "text": [
      "[93, 46, 74, 17, 64]\n",
      "[37, 56, 88, 49, 95]\n",
      "[95, 18, 12, 40, 53]\n",
      "[91, 6, 26, 62, 20]\n",
      "[21, 10, 98, 65, 21]\n"
     ]
    }
   ],
   "source": [
    "import ipywidgets as widgets\n",
    "from IPython.display import display, clear_output\n",
    "import random\n",
    "\n",
    "# ランダムな数値を生成して表示する関数\n",
    "def display_random_numbers():\n",
    "    clear_output(wait=True)\n",
    "    for _ in range(5):\n",
    "        numbers = [random.randint(1, 100) for _ in range(5)]\n",
    "        print(numbers)\n",
    "\n",
    "# \"y\" ボタンがクリックされた時のイベントハンドラ\n",
    "def on_y_clicked(b):\n",
    "    display_random_numbers()\n",
    "\n",
    "# \"n\" ボタンがクリックされた時のイベントハンドラ\n",
    "def on_n_clicked(b):\n",
    "    print(\"終了しました\")\n",
    "    display(None)  # ボタンを非表示にする\n",
    "\n",
    "# \"y\" ボタンの作成\n",
    "button_y = widgets.Button(description=\"y\")\n",
    "button_y.on_click(on_y_clicked)\n",
    "\n",
    "# \"n\" ボタンの作成\n",
    "button_n = widgets.Button(description=\"n\")\n",
    "button_n.on_click(on_n_clicked)\n",
    "\n",
    "# ボタンの表示\n",
    "display(button_y, button_n)\n",
    "\n",
    "# 初回のランダムな数値の表示\n",
    "display_random_numbers()\n"
   ]
  }
 ],
 "metadata": {
  "kernelspec": {
   "display_name": "Python 3",
   "language": "python",
   "name": "python3"
  },
  "language_info": {
   "codemirror_mode": {
    "name": "ipython",
    "version": 3
   },
   "file_extension": ".py",
   "mimetype": "text/x-python",
   "name": "python",
   "nbconvert_exporter": "python",
   "pygments_lexer": "ipython3",
   "version": "3.9.1"
  }
 },
 "nbformat": 4,
 "nbformat_minor": 2
}

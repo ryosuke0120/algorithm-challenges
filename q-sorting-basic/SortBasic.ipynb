{
 "cells": [
  {
   "cell_type": "markdown",
   "metadata": {},
   "source": [
    "# ソートアルゴリズム"
   ]
  },
  {
   "cell_type": "markdown",
   "metadata": {},
   "source": [
    "## 問題\n",
    "\n",
    "要素数nの整数列aが与えられる。この整数列を昇順にソートするプログラムを作成してください。\n",
    "\n",
    "## 制約\n",
    "\n",
    "1 <= n <= 1000"
   ]
  },
  {
   "cell_type": "markdown",
   "metadata": {},
   "source": [
    "## バブルソート"
   ]
  },
  {
   "cell_type": "code",
   "execution_count": 37,
   "metadata": {},
   "outputs": [
    {
     "name": "stdout",
     "output_type": "stream",
     "text": [
      "Before: [4, 1, 3, 5, 2]\n",
      "After: [1, 2, 3, 4, 5]\n"
     ]
    }
   ],
   "source": [
    "# 方針\n",
    "# 5 4 3 2 1 という配列があるとき、以下のように交換していく\n",
    "# (i, j) = (0, 1), (1, 2), (2, 3), (3, 4)\n",
    "# (i, j) = (0, 1), (1, 2), (2, 3)\n",
    "# (i, j) = (0, 1), (1, 2)\n",
    "# (i, j) = (0, 1)\n",
    "# このように、右奥に大きい数が泡のように浮かび上がっていくイメージなので、バブルソートと呼ばれる\n",
    "\n",
    "def bubble_sort(array):\n",
    "    n = len(array)\n",
    "    for i in range(n):\n",
    "        for j in range(n-i-1):\n",
    "            if array[j] > array[j+1]:\n",
    "                array[j], array[j+1] = array[j+1], array[j]\n",
    "    return array\n",
    "\n",
    "INPUT = [4, 1, 3, 5, 2]\n",
    "print(\"Before:\", INPUT)\n",
    "print(\"After:\", bubble_sort(INPUT))"
   ]
  },
  {
   "cell_type": "markdown",
   "metadata": {},
   "source": [
    "## 挿入ソート"
   ]
  },
  {
   "cell_type": "code",
   "execution_count": 25,
   "metadata": {},
   "outputs": [
    {
     "name": "stdout",
     "output_type": "stream",
     "text": [
      "Before: [64, 34, 25, 12, 22, 11, 90]\n",
      "After: [11, 12, 22, 25, 34, 64, 90]\n"
     ]
    }
   ],
   "source": [
    "# 方針\n",
    "# 挿入ソートは、整列済みの部分列に新しい要素を挿入していくソート\n",
    "# 5 4 3 2 1 という配列があるとき、以下のように挿入していく\n",
    "# pickup: i -> [整列済み] i [未整列] -> [整列済み + i] [未整列]\n",
    "# pickup: 4 -> [5] 4 [3, 2, 1] -> [4, 5] [3, 2, 1]\n",
    "# pickup: 3 -> [4, 5] 3 [2, 1] -> [3, 4, 5] [2, 1]\n",
    "# pickup: 2 -> [3, 4, 5] 2 [1] -> [2, 3, 4, 5] [1]\n",
    "# pickup: 1 -> [2, 3, 4, 5] 1 [] -> [1, 2, 3, 4, 5] []\n",
    "# このように、左側が整列済みで、右側が未整列の部分列を作り、左側の整列済み部分列に新しい要素を挿入していく\n",
    "\n",
    "def insertion_sort(array):\n",
    "    for i in range(1, len(array)):\n",
    "        # keyを取り出す\n",
    "        key = array[i]\n",
    "        \n",
    "        # 整列済み列のうち、keyを入れるべき場所まで、右にずらして空ける\n",
    "        j = i - 1\n",
    "        while j >= 0 and key < array[j]:\n",
    "            array[j + 1] = array[j]\n",
    "            j -= 1\n",
    "            \n",
    "        # keyを挿入\n",
    "        array[j + 1] = key\n",
    "    return array\n",
    "\n",
    "# 使用例\n",
    "INPUT = [64, 34, 25, 12, 22, 11, 90]\n",
    "print(\"Before:\", INPUT)\n",
    "print(\"After:\", insertion_sort(INPUT))"
   ]
  },
  {
   "cell_type": "markdown",
   "metadata": {},
   "source": [
    "## 選択ソート"
   ]
  },
  {
   "cell_type": "code",
   "execution_count": 1,
   "metadata": {},
   "outputs": [
    {
     "name": "stdout",
     "output_type": "stream",
     "text": [
      "Before: [64, 34, 25, 12, 22, 11, 90]\n",
      "After: [11, 12, 22, 25, 34, 64, 90]\n"
     ]
    }
   ],
   "source": [
    "# 方針\n",
    "# 選択ソートは、最小値を見つけて、それを左端に移動していくソート\n",
    "# 5 4 3 2 1 という配列があるとき、以下のように選択していく\n",
    "# (i, j) = (0, 1), (0, 2), (0, 3), (0, 4)\n",
    "# (i, j) = (1, 2), (1, 3), (1, 4)\n",
    "# (i, j) = (2, 3), (2, 4)\n",
    "# (i, j) = (3, 4)\n",
    "# このように、左端から最小値を選択していく\n",
    "\n",
    "def selection_sort(array):\n",
    "    n = len(array)\n",
    "    for i in range(n):\n",
    "        # 最小値のindexを見つける\n",
    "        min_idx = i\n",
    "        for j in range(i + 1, n):\n",
    "            if array[j] < array[min_idx]:\n",
    "                min_idx = j\n",
    "        # 最小値を左端に移動して入れ替える\n",
    "        array[i], array[min_idx] = array[min_idx], array[i]\n",
    "    return array\n",
    "\n",
    "# 使用例\n",
    "INPUT = [64, 34, 25, 12, 22, 11, 90]\n",
    "print(\"Before:\", INPUT)\n",
    "print(\"After:\", selection_sort(INPUT))"
   ]
  },
  {
   "cell_type": "markdown",
   "metadata": {},
   "source": [
    "## クイックソート"
   ]
  },
  {
   "cell_type": "code",
   "execution_count": 2,
   "metadata": {},
   "outputs": [
    {
     "name": "stdout",
     "output_type": "stream",
     "text": [
      "Before: [64, 34, 25, 12, 22, 11, 90]\n",
      "After: [11, 12, 22, 25, 34, 64, 90]\n"
     ]
    }
   ],
   "source": [
    "# 方針：(本ケースでは配列要素の中心をpivotとして選択)\n",
    "# pivotを選択し、pivotより小さい要素を左、大きい要素を右に分ける\n",
    "# この操作を再帰的に行うことで、全体をソートする\n",
    "\n",
    "def quick_sort(array):\n",
    "    # 配列が空か1要素の場合はそのまま返す\n",
    "    if len(array) <= 1:\n",
    "        return array\n",
    "\n",
    "    # 配列の中央の数をpivotとして選択\n",
    "    pivot = array[len(array) // 2] \n",
    "    \n",
    "    # pivotより小さい要素を左、大きい要素を右に分ける\n",
    "    left = [x for x in array if x < pivot]\n",
    "    middle = [x for x in array if x == pivot]\n",
    "    right = [x for x in array if x > pivot]\n",
    "    \n",
    "    # 再帰的にソート\n",
    "    return quick_sort(left) + middle + quick_sort(right)\n",
    "\n",
    "# 使用例\n",
    "INPUT = [64, 34, 25, 12, 22, 11, 90]\n",
    "print(\"Before:\", INPUT)\n",
    "print(\"After:\", quick_sort(INPUT))"
   ]
  },
  {
   "cell_type": "markdown",
   "metadata": {},
   "source": [
    "## マージソート"
   ]
  },
  {
   "cell_type": "code",
   "execution_count": 3,
   "metadata": {},
   "outputs": [
    {
     "name": "stdout",
     "output_type": "stream",
     "text": [
      "Before: [64, 34, 25, 12, 22, 11, 90]\n",
      "After: [11, 12, 22, 25, 34, 64, 90]\n"
     ]
    }
   ],
   "source": [
    "# 方針\n",
    "# マージソートは、分割統治法を用いたアルゴリズム\n",
    "# 配列を半分に分割し、それぞれをソートして、それをマージする\n",
    "\n",
    "def merge(left, right):\n",
    "    result = []\n",
    "    i = j = 0\n",
    "    \n",
    "    # どちらかの配列が空になるまで比較し、小さい方をresultに追加\n",
    "    while i < len(left) and j < len(right):\n",
    "        if left[i] < right[j]:\n",
    "            result.append(left[i])\n",
    "            i += 1\n",
    "        else:\n",
    "            result.append(right[j])\n",
    "            j += 1\n",
    "    \n",
    "    # 残りの要素を追加(実際はどちらかの配列は空になっている)\n",
    "    result.extend(left[i:])\n",
    "    result.extend(right[j:])\n",
    "\n",
    "    return result\n",
    "\n",
    "def merge_sort(array):\n",
    "    if len(array) <= 1:\n",
    "        return array\n",
    "    \n",
    "    mid = len(array) // 2\n",
    "    left = merge_sort(array[:mid])\n",
    "    right = merge_sort(array[mid:])\n",
    "    \n",
    "    return merge(left, right)\n",
    "\n",
    "\n",
    "# 使用例\n",
    "INPUT = [64, 34, 25, 12, 22, 11, 90]\n",
    "print(\"Before:\", INPUT)\n",
    "print(\"After:\", merge_sort(INPUT))\n"
   ]
  },
  {
   "cell_type": "markdown",
   "metadata": {},
   "source": [
    "## ヒープソート"
   ]
  },
  {
   "cell_type": "code",
   "execution_count": 12,
   "metadata": {},
   "outputs": [
    {
     "name": "stdout",
     "output_type": "stream",
     "text": [
      "Before: [64, 34, 25, 12, 22, 11, 90]\n",
      "After: [12, 25, 22, 34, 64, 90]\n"
     ]
    }
   ],
   "source": [
    "# 方針\n",
    "# ヒープ(完全二分木)により木のルートが一番大きいことを活用したソート\n",
    "# 以下の手順でソートを行う\n",
    "# Step1: 全体をヒープ化(ルートが最大値化)\n",
    "# Step2: 最大値を取り出し、ヒープのサイズを1減らす。これを繰り返す\n",
    "\n",
    "def heapify(arr, i):\n",
    "    \"\"\"\n",
    "    arrのi番目より下のツリーをヒープ化する\n",
    "    \n",
    "    arr: リスト\n",
    "    i: 現在のノードのindex\n",
    "    \n",
    "    ヒープの構成\n",
    "          top(i)\n",
    "         /      \\\n",
    "    left(2i+1)  right(2i+2)\n",
    "    \"\"\"\n",
    "    largest = i  # 現在のノードを最大値と仮定\n",
    "    left = 2 * i + 1  # 左の子ノード\n",
    "    right = 2 * i + 2  # 右の子ノード\n",
    "    \n",
    "    # 最大値となるノードを選択\n",
    "    if left < len(arr) and arr[largest] < arr[left]:\n",
    "        largest = left\n",
    "    if right < len(arr) and arr[largest] < arr[right]:\n",
    "        largest = right\n",
    "    \n",
    "    # 最大値が現在のノードでない場合、スワップして再帰的にheapify\n",
    "    if largest != i:\n",
    "        arr[i], arr[largest] = arr[largest], arr[i]\n",
    "        \n",
    "        # leftまたはrightはヒープが保証されていないので、再帰的にheapify\n",
    "        heapify(arr, largest)\n",
    "\n",
    "def heap_sort(array):\n",
    "    n = len(array)\n",
    "    \n",
    "    # ヒープ構築（配列全体を最大ヒープに変換）\n",
    "    for i in range(n // 2 - 1, -1, -1):\n",
    "        heapify(array, i)\n",
    "    \n",
    "    # ヒープから最大値を取り出し&ヒープ再構築を繰り返す\n",
    "    result = []\n",
    "    for i in range(n-1, 0, -1):\n",
    "        # 最大値をresultの先頭に挿入\n",
    "        result.insert(0, array.pop(0))\n",
    "        \n",
    "        # heapを再構築\n",
    "        heapify(array, 0)\n",
    "    \n",
    "    return result\n",
    "\n",
    "# 使用例\n",
    "INPUT = [64, 34, 25, 12, 22, 11, 90]\n",
    "print(\"Before:\", INPUT)\n",
    "print(\"After:\", heap_sort(INPUT))\n"
   ]
  }
 ],
 "metadata": {
  "kernelspec": {
   "display_name": "Python 3",
   "language": "python",
   "name": "python3"
  },
  "language_info": {
   "codemirror_mode": {
    "name": "ipython",
    "version": 3
   },
   "file_extension": ".py",
   "mimetype": "text/x-python",
   "name": "python",
   "nbconvert_exporter": "python",
   "pygments_lexer": "ipython3",
   "version": "3.9.1"
  }
 },
 "nbformat": 4,
 "nbformat_minor": 2
}
